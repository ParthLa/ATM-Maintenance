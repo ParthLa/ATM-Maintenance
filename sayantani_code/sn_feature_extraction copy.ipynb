{
 "cells": [
  {
   "cell_type": "code",
   "execution_count": null,
   "metadata": {},
   "outputs": [],
   "source": [
    "import numpy as np\n",
    "import pandas as pd\n",
    "import datetime as dt\n",
    "\n",
    "data = pd.read_csv(\"data.csv\")\n",
    "ticket = pd.read_csv(\"maintenance.csv\")\n",
    "print(data.columns)\n",
    "ticket.columns = pd.Series(ticket.columns).apply(lambda x : x.strip())\n",
    "print(ticket.columns)\n",
    "data[\"TermId\"].value_counts()"
   ]
  },
  {
   "cell_type": "code",
   "execution_count": null,
   "metadata": {},
   "outputs": [],
   "source": [
    "data[\"FaultStartTime\"] = pd.to_datetime(data[\"FaultStartTime\"], format='%Y-%m-%d %H:%M:%S.%f')\n",
    "data[\"FaultEndTime\"] = pd.to_datetime(data[\"FaultEndTime\"], format='%Y-%m-%d %H:%M:%S.%f')\n",
    "\n",
    "ticket[\"Ticket start\"] = pd.to_datetime(ticket[\"Ticket start\"], format='%d-%m-%Y %H:%M')\n",
    "ticket[\"Ticket stop\"] = pd.to_datetime(ticket[\"Ticket stop\"], format='%d-%m-%Y %H:%M')\n",
    "\n",
    "data = data.sort_values(by = [\"FaultStartTime\"], ignore_index = True)\n",
    "ticket = ticket.sort_values(by = [\"Ticket start\"], ignore_index = True)\n",
    "\n",
    "data = data[data[\"FaultStartTime\"] >= dt.datetime(2020, 8, 1, 0, 0, 0)]\n",
    "data = data[data[\"FaultStartTime\"] < dt.datetime(2020, 9, 1, 0, 0, 0)]\n",
    "data.reset_index()"
   ]
  },
  {
   "cell_type": "code",
   "execution_count": null,
   "metadata": {},
   "outputs": [],
   "source": [
    "data[\"FaultDesc\"].unique()"
   ]
  },
  {
   "cell_type": "code",
   "execution_count": null,
   "metadata": {},
   "outputs": [],
   "source": [
    "errortypes = data[\"FaultDesc\"].unique().tolist()\n",
    "print(len(errortypes))\n",
    "errors = {errortypes[i] : \"e{}\".format(i+1) for i in range(len(errortypes))}\n",
    "data = data.replace({\"FaultDesc\" : errors})"
   ]
  },
  {
   "cell_type": "code",
   "execution_count": null,
   "metadata": {},
   "outputs": [],
   "source": [
    "atm_id = {}\n",
    "atm = data[\"TermId\"].unique().tolist()\n",
    "for i in atm:\n",
    "    atm_id[i] = data[data[\"TermId\"] == i][['FaultStartTime', 'FaultEndTime', 'FaultDesc']].values.tolist()\n",
    "\n",
    "atm_id"
   ]
  },
  {
   "cell_type": "code",
   "execution_count": null,
   "metadata": {},
   "outputs": [],
   "source": [
    "dataset = pd.DataFrame() \n",
    "for name in list(atm_id.keys()):\n",
    "    \n",
    "    sub_data = np.array(atm_id[name])\n",
    "    month_start = sub_data[0,0].date()#dt.datetime(2020, 8, 1, 0, 0, 0)\n",
    "    month_start = dt.datetime(month_start.year, month_start.month, month_start.day, 0, 0, 0)\n",
    "    month_end = dt.datetime(2020, 8, 31, 23, 59, 59)\n",
    "    x = 2\n",
    "    m = 10\n",
    "    y = 6\n",
    "    date_index = 0 #index of fault start date in list\n",
    "    mu_len = dt.timedelta(days = m, hours = 0, minutes = 0, seconds = 0)  # length of each measurement unit\n",
    "    ow_gap = dt.timedelta(days = 2, hours = 0, minutes = 0, seconds = 0)  # gap between two successive observation windows\n",
    "    ow_start = month_start\n",
    "    pred_point = ow_start + dt.timedelta(days = x*m, hours = 0, minutes = 0, seconds = 0)\n",
    "    pred_end = pred_point + dt.timedelta(days = y, hours = 0, minutes = 0, seconds = 0)\n",
    "\n",
    "    error_count = {e : 0 for e in errors.values()}\n",
    "    rows = []\n",
    "    target = []\n",
    "\n",
    "    while(pred_end <= month_end):\n",
    "        mu_start = ow_start\n",
    "        mu_end = mu_start + mu_len\n",
    "        single_row = []\n",
    "        colnames = []\n",
    "    \n",
    "        for mu_no in range(x):\n",
    "            s = sub_data[sub_data[:,date_index] >= mu_start]\n",
    "            error_mu = list(s[s[:,date_index] < mu_end][:,2])\n",
    "            for e in error_mu:\n",
    "                error_count[e] += 1 \n",
    "            mu_start = mu_end\n",
    "            mu_end = mu_end + mu_len\n",
    "            single_row.extend(list(error_count.values()))\n",
    "            error_count = {e : 0 for e in errors.values()} \n",
    "            for e in errors.values():\n",
    "                colnames.append(e + \".m{}\".format(mu_no + 1))\n",
    "       \n",
    "        s = sub_data[sub_data[:,date_index] >= ow_start]\n",
    "        s = s[s[:,date_index] < pred_point]\n",
    "            \n",
    "        for e in errors.values():\n",
    "            v = [] \n",
    "            dist_from_pred = pd.Series(pred_point - (s[s[:,2] == e][:,date_index])).apply(lambda x : (x.seconds)/60)\n",
    "            if dist_from_pred.shape[0] != 0:\n",
    "                single_row.extend([dist_from_pred.min(),dist_from_pred.max(),dist_from_pred.mean()])\n",
    "            #    dist_from_pred = list(dist_from_pred)\n",
    "                dist_from_pred = list(dist_from_pred.sort_values(ascending = False))\n",
    "                for i in range(len(dist_from_pred)-1):\n",
    "                    v.append(dist_from_pred[i] - dist_from_pred[(i+1)])\n",
    "                if len(v) == 0:\n",
    "                    single_row.extend([0,0])\n",
    "                else:\n",
    "                    single_row.extend([np.mean(v), np.std(v)])\n",
    "            else:\n",
    "                single_row.extend([0,0,0,0,0])   \n",
    "                \n",
    "            colnames.extend([\"min(D{})\".format(e[1:]),\"max(D{})\".format(e[1:]),\"mean(D{})\".format(e[1:]),\"mean(V{})\".format(e[1:]),\"std(V{})\".format(e[1:])])\n",
    "    \n",
    "        t = ticket[ticket[\"ATM ID\"] == name]\n",
    "        t = t[t[\"Ticket start\"] <= pred_end]\n",
    "        t = t[t[\"Ticket start\"] >= mu_start]\n",
    "        #t = t[t[\"Activity comment\"].str.contains(\"SLM\")]\n",
    "        target.append(0 if t.shape[0] == 0 else 1)\n",
    "\n",
    "        rows.append(single_row)\n",
    "        \n",
    "        ow_start = ow_start + ow_gap\n",
    "        pred_point = ow_start + dt.timedelta(days = x*m, hours = 0, minutes = 0, seconds = 0)\n",
    "        pred_end = pred_point + dt.timedelta(days = y, hours = 0, minutes = 0, seconds = 0)    \n",
    "        \n",
    "    profile = pd.DataFrame([name for i in range(len(rows))], columns = [\"ATM ID\"])\n",
    "    df = pd.DataFrame(rows, columns = colnames)\n",
    "    target_df = pd.DataFrame(target, columns = [\"Target\"])\n",
    "    df = pd.concat([profile, df, target_df], axis = 1)\n",
    "    \n",
    "    dataset = pd.concat([dataset, df])    \n"
   ]
  },
  {
   "cell_type": "code",
   "execution_count": null,
   "metadata": {},
   "outputs": [],
   "source": [
    "dataset"
   ]
  },
  {
   "cell_type": "code",
   "execution_count": null,
   "metadata": {},
   "outputs": [],
   "source": [
    "from collections import Counter\n",
    "Counter(dataset.Target)"
   ]
  },
  {
   "cell_type": "code",
   "execution_count": null,
   "metadata": {},
   "outputs": [],
   "source": [
    "dataset.to_csv(\"Feature.csv\", index = False)"
   ]
  }
 ],
 "metadata": {
  "kernelspec": {
   "display_name": "Python 3",
   "language": "python",
   "name": "python3"
  },
  "language_info": {
   "codemirror_mode": {
    "name": "ipython",
    "version": 3
   },
   "file_extension": ".py",
   "mimetype": "text/x-python",
   "name": "python",
   "nbconvert_exporter": "python",
   "pygments_lexer": "ipython3",
   "version": "3.8.2"
  }
 },
 "nbformat": 4,
 "nbformat_minor": 4
}
