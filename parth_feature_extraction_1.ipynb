{
 "cells": [
  {
   "cell_type": "code",
   "execution_count": 1,
   "metadata": {
    "scrolled": true
   },
   "outputs": [
    {
     "name": "stdout",
     "output_type": "stream",
     "text": [
      "(984245, 5)\n",
      "(25939, 6)\n",
      "(8072291, 10)\n",
      "(627382, 10)\n"
     ]
    }
   ],
   "source": [
    "import numpy as np\n",
    "import pandas as pd\n",
    "import datetime as dt\n",
    "\n",
    "data = pd.read_csv(\"data.csv\")\n",
    "data_new=data.rename(columns={\"TermId\": \"ATM ID\"})\n",
    "# print(data_new.dtypes[\"ATM ID\"])\n",
    "# data_new[\"ATM ID\"]=data_new[\"ATM ID\"].astype(float)\n",
    "# print(data_new.columns)\n",
    "print(data_new.shape)\n",
    "\n",
    "data_new.columns\n",
    "# print(ticket1.columns)\n",
    "# print(ticket1)\n",
    "\n",
    "ticket = pd.read_csv(\"maintenance.csv\")\n",
    "ticket.columns = [\"Ticket ID\", \"ATM ID\", \"Ticket start\", \"Ticket stop\", \"Fault\", \"Activity comment\"]\n",
    "#ticket = ticket.reindex(columns=columns)\n",
    "# print(ticket.dtypes[\"ATM ID\"])\n",
    "ticket[\"ATM ID\"]=ticket[\"ATM ID\"].astype(object)\n",
    "# print(ticket.columns)\n",
    "\n",
    "print(ticket.shape)\n",
    "\n",
    "# fault_n_ticket = data_new[[\"ATM ID\", \"FaultStartTime\", \"FaultEndTime\", \"FaultDesc\", \"age\"]].merge(ticket[[\"Ticket ID\", \"ATM ID\", \"Ticket start\", \"Ticket stop\", \"Fault\", \"Activity comment\"]], on = \"ATM ID\",  how = \"outer\") \n",
    "# print(fault_n_ticket)\n",
    "fault_n_ticket=pd.merge(data_new,ticket,how=\"inner\",on=\"ATM ID\")\n",
    "print(fault_n_ticket.shape)\n",
    "ticket1 = fault_n_ticket[fault_n_ticket[\"Activity comment\"] == \"SLM\"]\n",
    "print(ticket1.shape)"
   ]
  },
  {
   "cell_type": "code",
   "execution_count": null,
   "metadata": {
    "scrolled": true
   },
   "outputs": [],
   "source": []
  },
  {
   "cell_type": "code",
   "execution_count": null,
   "metadata": {},
   "outputs": [],
   "source": []
  },
  {
   "cell_type": "code",
   "execution_count": null,
   "metadata": {},
   "outputs": [],
   "source": []
  }
 ],
 "metadata": {
  "kernelspec": {
   "display_name": "Python 3",
   "language": "python",
   "name": "python3"
  },
  "language_info": {
   "codemirror_mode": {
    "name": "ipython",
    "version": 3
   },
   "file_extension": ".py",
   "mimetype": "text/x-python",
   "name": "python",
   "nbconvert_exporter": "python",
   "pygments_lexer": "ipython3",
   "version": "3.7.4"
  }
 },
 "nbformat": 4,
 "nbformat_minor": 4
}
